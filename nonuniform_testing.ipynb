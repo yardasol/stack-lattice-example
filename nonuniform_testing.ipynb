{
 "cells": [
  {
   "cell_type": "code",
   "execution_count": 6,
   "id": "b9a4a8e6",
   "metadata": {},
   "outputs": [],
   "source": [
    "import openmc"
   ]
  },
  {
   "cell_type": "code",
   "execution_count": 7,
   "id": "48f0c339",
   "metadata": {},
   "outputs": [],
   "source": [
    "model = openmc.model.Model()\n",
    "\n",
    "# Initialize materials\n",
    "uo2 = openmc.Material(name='UO2')\n",
    "uo2.set_density('g/cm3', 10.0)\n",
    "uo2.add_nuclide('U235', 1.0)\n",
    "uo2.add_nuclide('O16', 2.0)\n",
    "water = openmc.Material(name='light water')\n",
    "water.add_nuclide('H1', 2.0)\n",
    "water.add_nuclide('O16', 1.0)\n",
    "water.set_density('g/cm3', 1.0)\n",
    "water.add_s_alpha_beta('c_H_in_H2O')\n",
    "model.materials.extend([uo2, water, ])\n",
    "\n",
    "rc = 0.4\n",
    "h1 = 1.0\n",
    "h2 = 2.0\n",
    "h_avg = (h1 + h2) / 2\n",
    "cyl = openmc.ZCylinder(r=rc)\n",
    "top1 = openmc.ZPlane(z0=h1)\n",
    "top2 = openmc.ZPlane(z0=h2)\n",
    "bottom = openmc.ZPlane(z0=0.)\n",
    "pellet1 = -cyl & -top1 & +bottom\n",
    "pellet2 = -cyl & -top2 & +bottom\n",
    "water_slice1 = +cyl & -top1 & +bottom\n",
    "water_slice2 = +cyl & -top2 & +bottom\n",
    "\n",
    "fuel1 = openmc.Cell(fill=uo2, region=pellet1)\n",
    "fuel2 = openmc.Cell(fill=uo2, region=pellet2)\n",
    "water_reflector1 = openmc.Cell(fill=water, region=water_slice1)\n",
    "water_reflector2 = openmc.Cell(fill=water, region=water_slice2)\n",
    "layer1 = openmc.Universe(cells=[fuel1, water_reflector1])\n",
    "layer2 = openmc.Universe(cells=[fuel2, water_reflector2])\n",
    "\n",
    "n_pellets = 200\n",
    "\n",
    "top = openmc.ZPlane(z0=n_pellets * h_avg)\n",
    "tb_refl = openmc.Cell(fill=water, region=-bottom | +top)\n",
    "\n",
    "d = 1.5 * rc\n",
    "box = openmc.model.RectangularParallelepiped(-d, d, -d, d, 0. - d,\n",
    "                                          n_pellets * h_avg + d,\n",
    "                                          boundary_type='reflective')\n",
    "\n",
    "univs = [layer1, layer2] * int(n_pellets / 2)\n",
    "pellet_stack = openmc.StackLattice()\n",
    "pellet_stack.central_axis = (0., 0.)\n",
    "pellet_stack.base_coordinate = 0.\n",
    "pellet_stack.universes = univs\n",
    "pellet_stack.is_uniform = False\n",
    "pellet_stack.pitch = [h1, h2] * int(n_pellets / 2)\n",
    "\n",
    "stack_cell = openmc.Cell(fill=pellet_stack)\n",
    "\n",
    "pin_univ = openmc.Universe(cells=[stack_cell, tb_refl])\n",
    "\n",
    "main_cell = openmc.Cell(fill=pin_univ, region=-box)\n",
    "model.geometry = openmc.Geometry([main_cell])\n",
    "\n",
    "model.settings.batches = 10\n",
    "model.settings.inactive = 5\n",
    "model.settings.particles = 1000\n"
   ]
  },
  {
   "cell_type": "code",
   "execution_count": 8,
   "id": "5889b469",
   "metadata": {},
   "outputs": [
    {
     "data": {
      "text/plain": [
       "200"
      ]
     },
     "execution_count": 8,
     "metadata": {},
     "output_type": "execute_result"
    }
   ],
   "source": [
    "pellet_stack.num_layers"
   ]
  },
  {
   "cell_type": "code",
   "execution_count": 9,
   "id": "19dc886d",
   "metadata": {},
   "outputs": [
    {
     "data": {
      "text/plain": [
       "[1.0,\n",
       " 2.0,\n",
       " 1.0,\n",
       " 2.0,\n",
       " 1.0,\n",
       " 2.0,\n",
       " 1.0,\n",
       " 2.0,\n",
       " 1.0,\n",
       " 2.0,\n",
       " 1.0,\n",
       " 2.0,\n",
       " 1.0,\n",
       " 2.0,\n",
       " 1.0,\n",
       " 2.0,\n",
       " 1.0,\n",
       " 2.0,\n",
       " 1.0,\n",
       " 2.0,\n",
       " 1.0,\n",
       " 2.0,\n",
       " 1.0,\n",
       " 2.0,\n",
       " 1.0,\n",
       " 2.0,\n",
       " 1.0,\n",
       " 2.0,\n",
       " 1.0,\n",
       " 2.0,\n",
       " 1.0,\n",
       " 2.0,\n",
       " 1.0,\n",
       " 2.0,\n",
       " 1.0,\n",
       " 2.0,\n",
       " 1.0,\n",
       " 2.0,\n",
       " 1.0,\n",
       " 2.0,\n",
       " 1.0,\n",
       " 2.0,\n",
       " 1.0,\n",
       " 2.0,\n",
       " 1.0,\n",
       " 2.0,\n",
       " 1.0,\n",
       " 2.0,\n",
       " 1.0,\n",
       " 2.0,\n",
       " 1.0,\n",
       " 2.0,\n",
       " 1.0,\n",
       " 2.0,\n",
       " 1.0,\n",
       " 2.0,\n",
       " 1.0,\n",
       " 2.0,\n",
       " 1.0,\n",
       " 2.0,\n",
       " 1.0,\n",
       " 2.0,\n",
       " 1.0,\n",
       " 2.0,\n",
       " 1.0,\n",
       " 2.0,\n",
       " 1.0,\n",
       " 2.0,\n",
       " 1.0,\n",
       " 2.0,\n",
       " 1.0,\n",
       " 2.0,\n",
       " 1.0,\n",
       " 2.0,\n",
       " 1.0,\n",
       " 2.0,\n",
       " 1.0,\n",
       " 2.0,\n",
       " 1.0,\n",
       " 2.0,\n",
       " 1.0,\n",
       " 2.0,\n",
       " 1.0,\n",
       " 2.0,\n",
       " 1.0,\n",
       " 2.0,\n",
       " 1.0,\n",
       " 2.0,\n",
       " 1.0,\n",
       " 2.0,\n",
       " 1.0,\n",
       " 2.0,\n",
       " 1.0,\n",
       " 2.0,\n",
       " 1.0,\n",
       " 2.0,\n",
       " 1.0,\n",
       " 2.0,\n",
       " 1.0,\n",
       " 2.0,\n",
       " 1.0,\n",
       " 2.0,\n",
       " 1.0,\n",
       " 2.0,\n",
       " 1.0,\n",
       " 2.0,\n",
       " 1.0,\n",
       " 2.0,\n",
       " 1.0,\n",
       " 2.0,\n",
       " 1.0,\n",
       " 2.0,\n",
       " 1.0,\n",
       " 2.0,\n",
       " 1.0,\n",
       " 2.0,\n",
       " 1.0,\n",
       " 2.0,\n",
       " 1.0,\n",
       " 2.0,\n",
       " 1.0,\n",
       " 2.0,\n",
       " 1.0,\n",
       " 2.0,\n",
       " 1.0,\n",
       " 2.0,\n",
       " 1.0,\n",
       " 2.0,\n",
       " 1.0,\n",
       " 2.0,\n",
       " 1.0,\n",
       " 2.0,\n",
       " 1.0,\n",
       " 2.0,\n",
       " 1.0,\n",
       " 2.0,\n",
       " 1.0,\n",
       " 2.0,\n",
       " 1.0,\n",
       " 2.0,\n",
       " 1.0,\n",
       " 2.0,\n",
       " 1.0,\n",
       " 2.0,\n",
       " 1.0,\n",
       " 2.0,\n",
       " 1.0,\n",
       " 2.0,\n",
       " 1.0,\n",
       " 2.0,\n",
       " 1.0,\n",
       " 2.0,\n",
       " 1.0,\n",
       " 2.0,\n",
       " 1.0,\n",
       " 2.0,\n",
       " 1.0,\n",
       " 2.0,\n",
       " 1.0,\n",
       " 2.0,\n",
       " 1.0,\n",
       " 2.0,\n",
       " 1.0,\n",
       " 2.0,\n",
       " 1.0,\n",
       " 2.0,\n",
       " 1.0,\n",
       " 2.0,\n",
       " 1.0,\n",
       " 2.0,\n",
       " 1.0,\n",
       " 2.0,\n",
       " 1.0,\n",
       " 2.0,\n",
       " 1.0,\n",
       " 2.0,\n",
       " 1.0,\n",
       " 2.0,\n",
       " 1.0,\n",
       " 2.0,\n",
       " 1.0,\n",
       " 2.0,\n",
       " 1.0,\n",
       " 2.0,\n",
       " 1.0,\n",
       " 2.0,\n",
       " 1.0,\n",
       " 2.0,\n",
       " 1.0,\n",
       " 2.0,\n",
       " 1.0,\n",
       " 2.0,\n",
       " 1.0,\n",
       " 2.0,\n",
       " 1.0,\n",
       " 2.0,\n",
       " 1.0,\n",
       " 2.0,\n",
       " 1.0,\n",
       " 2.0]"
      ]
     },
     "execution_count": 9,
     "metadata": {},
     "output_type": "execute_result"
    }
   ],
   "source": [
    "pellet_stack.pitch"
   ]
  },
  {
   "cell_type": "code",
   "execution_count": null,
   "id": "ec9e59c1",
   "metadata": {
    "scrolled": true
   },
   "outputs": [],
   "source": []
  },
  {
   "cell_type": "code",
   "execution_count": 10,
   "id": "645b90ad",
   "metadata": {
    "scrolled": true
   },
   "outputs": [
    {
     "data": {
      "text/plain": [
       "<matplotlib.image.AxesImage at 0x7ffa26f36320>"
      ]
     },
     "execution_count": 10,
     "metadata": {},
     "output_type": "execute_result"
    },
    {
     "data": {
      "image/png": "[encoded data removed]",
      "text/plain": [
       "<Figure size 432x288 with 1 Axes>"
      ]
     },
     "metadata": {
      "needs_background": "light"
     },
     "output_type": "display_data"
    }
   ],
   "source": [
    "pin_univ.plot(pixels=[50,50],width=(2.,5.), origin=(0.,0.,2.), basis='xz', color_by='material', colors={uo2: 'red', water: 'blue'})"
   ]
  },
  {
   "cell_type": "code",
   "execution_count": 4,
   "id": "44530e60",
   "metadata": {
    "scrolled": true
   },
   "outputs": [
    {
     "data": {
      "text/plain": [
       "<matplotlib.image.AxesImage at 0x7fef6bf2a5f0>"
      ]
     },
     "execution_count": 4,
     "metadata": {},
     "output_type": "execute_result"
    },
    {
     "data": {
      "image/png": "[encoded data removed]",
      "text/plain": [
       "<Figure size 432x288 with 1 Axes>"
      ]
     },
     "metadata": {
      "needs_background": "light"
     },
     "output_type": "display_data"
    }
   ],
   "source": [
    "import pdb\n",
    "pdb.traceback\n",
    "model.geometry.root_universe.plot(pixels=[50,50], width=(2.,5.), origin=(0.,0.,1.5), basis='xz', color_by='material', colors={uo2: 'red', water: 'blue'})"
   ]
  },
  {
   "cell_type": "code",
   "execution_count": null,
   "id": "10469a4a",
   "metadata": {},
   "outputs": [],
   "source": []
  },
  {
   "cell_type": "code",
   "execution_count": 3,
   "id": "46414807",
   "metadata": {},
   "outputs": [
    {
     "data": {
      "text/plain": [
       "array([0., 1., 3.])"
      ]
     },
     "execution_count": 3,
     "metadata": {},
     "output_type": "execute_result"
    }
   ],
   "source": [
    "pellet_stack._layer_boundabries"
   ]
  },
  {
   "cell_type": "code",
   "execution_count": 5,
   "id": "e0cf54bf",
   "metadata": {},
   "outputs": [
    {
     "data": {
      "text/plain": [
       "2.6"
      ]
     },
     "execution_count": 5,
     "metadata": {},
     "output_type": "execute_result"
    }
   ],
   "source": [
    "n_pellets * h_avg + d"
   ]
  },
  {
   "cell_type": "code",
   "execution_count": null,
   "id": "47420492",
   "metadata": {},
   "outputs": [],
   "source": [
    "pellet_stack._universes"
   ]
  },
  {
   "cell_type": "code",
   "execution_count": null,
   "id": "f4632cfa",
   "metadata": {},
   "outputs": [],
   "source": [
    "pellet_stack._orientation_idx"
   ]
  },
  {
   "cell_type": "code",
   "execution_count": 3,
   "id": "0ecf9b11",
   "metadata": {},
   "outputs": [],
   "source": [
    "plotxy = openmc.Plot()\n",
    "plotxy.basis = 'xy'\n",
    "plotxy.origin = (0., 0., 1.)\n",
    "plotxy.width = (5., 5.)\n",
    "plotxy.pixels = (400, 400)\n",
    "plotxy.color_by = 'material'\n",
    "\n",
    "plotxy.colors = {\n",
    "    uo2: 'red',\n",
    "    water: 'blue'\n",
    "}\n",
    "plotxy.filename = 'xy'\n",
    "\n",
    "plotxz = openmc.Plot()\n",
    "plotxz.basis = 'xz'\n",
    "plotxz.origin = (0., 0., 1.)\n",
    "plotxz.width = (5., 5.)\n",
    "plotxz.pixels = (400, 400)\n",
    "plotxz.color_by = 'material'\n",
    "\n",
    "plotxz.colors = {\n",
    "    uo2: 'red',\n",
    "    water: 'blue'\n",
    "}\n",
    "plotxz.filename = 'xz'\n",
    "\n",
    "plots = openmc.Plots([plotxy, plotxz])\n",
    "plots.export_to_xml()"
   ]
  },
  {
   "cell_type": "code",
   "execution_count": null,
   "id": "53233712",
   "metadata": {},
   "outputs": [],
   "source": [
    "model.export_to_xml()"
   ]
  },
  {
   "cell_type": "code",
   "execution_count": null,
   "id": "6216cbdb",
   "metadata": {},
   "outputs": [],
   "source": [
    "pellet_stack"
   ]
  },
  {
   "cell_type": "code",
   "execution_count": null,
   "id": "a47268fa",
   "metadata": {},
   "outputs": [],
   "source": [
    "(-1 - 0) / 1.5"
   ]
  },
  {
   "cell_type": "code",
   "execution_count": 3,
   "id": "2eaeccde",
   "metadata": {},
   "outputs": [],
   "source": [
    "sp = openmc.StatePoint('statepoint.10.h5')"
   ]
  },
  {
   "cell_type": "code",
   "execution_count": 4,
   "id": "a978cc2b",
   "metadata": {},
   "outputs": [
    {
     "data": {
      "text/plain": [
       "1.8508013152353244+/-0.005892614515898528"
      ]
     },
     "execution_count": 4,
     "metadata": {},
     "output_type": "execute_result"
    }
   ],
   "source": [
    "sp.k_combined"
   ]
  },
  {
   "cell_type": "code",
   "execution_count": 12,
   "id": "18cfbd71",
   "metadata": {},
   "outputs": [],
   "source": [
    "model.export_to_xml()"
   ]
  },
  {
   "cell_type": "code",
   "execution_count": 13,
   "id": "0d537140",
   "metadata": {},
   "outputs": [
    {
     "name": "stdout",
     "output_type": "stream",
     "text": [
      "                                %%%%%%%%%%%%%%%\n",
      "                           %%%%%%%%%%%%%%%%%%%%%%%%\n",
      "                        %%%%%%%%%%%%%%%%%%%%%%%%%%%%%%\n",
      "                      %%%%%%%%%%%%%%%%%%%%%%%%%%%%%%%%%%\n",
      "                    %%%%%%%%%%%%%%%%%%%%%%%%%%%%%%%%%%%%%%\n",
      "                   %%%%%%%%%%%%%%%%%%%%%%%%%%%%%%%%%%%%%%%%\n",
      "                                    %%%%%%%%%%%%%%%%%%%%%%%%\n",
      "                                     %%%%%%%%%%%%%%%%%%%%%%%%\n",
      "                 ###############      %%%%%%%%%%%%%%%%%%%%%%%%\n",
      "                ##################     %%%%%%%%%%%%%%%%%%%%%%%\n",
      "                ###################     %%%%%%%%%%%%%%%%%%%%%%%\n",
      "                ####################     %%%%%%%%%%%%%%%%%%%%%%\n",
      "                #####################     %%%%%%%%%%%%%%%%%%%%%\n",
      "                ######################     %%%%%%%%%%%%%%%%%%%%\n",
      "                #######################     %%%%%%%%%%%%%%%%%%\n",
      "                 #######################     %%%%%%%%%%%%%%%%%\n",
      "                 ######################     %%%%%%%%%%%%%%%%%\n",
      "                  ####################     %%%%%%%%%%%%%%%%%\n",
      "                    #################     %%%%%%%%%%%%%%%%%\n",
      "                     ###############     %%%%%%%%%%%%%%%%\n",
      "                       ############     %%%%%%%%%%%%%%%\n",
      "                          ########     %%%%%%%%%%%%%%\n",
      "                                      %%%%%%%%%%%\n",
      "\n",
      "                 | The OpenMC Monte Carlo Code\n",
      "       Copyright | 2011-2022 MIT, UChicago Argonne LLC, and contributors\n",
      "         License | https://docs.openmc.org/en/latest/license.html\n",
      "         Version | 0.13.1-dev\n",
      "        Git SHA1 | c50b458615c65f79c97d91a53c6b3f11dae352e5\n",
      "       Date/Time | 2022-04-28 14:07:24\n",
      "  OpenMP Threads | 12\n",
      "\n",
      " Reading settings XML file...\n",
      " Reading cross sections XML file...\n",
      " Reading materials XML file...\n",
      " Reading geometry XML file...\n",
      " Reading U235 from\n",
      " /home/ooblack/projects/cross-section-libraries/nndc_hdf5/U235.h5\n",
      " Reading O16 from\n",
      " /home/ooblack/projects/cross-section-libraries/nndc_hdf5/O16.h5\n",
      " Reading H1 from /home/ooblack/projects/cross-section-libraries/nndc_hdf5/H1.h5\n",
      " Reading c_H_in_H2O from\n",
      " /home/ooblack/projects/cross-section-libraries/nndc_hdf5/c_H_in_H2O.h5\n",
      " Minimum neutron data temperature: 294 K\n",
      " Maximum neutron data temperature: 294 K\n",
      " Preparing distributed cell instances...\n",
      " Reading plot XML file...\n",
      " WARNING: Could not find material 13 specified in plot 5\n",
      " WARNING: Could not find material 14 specified in plot 5\n",
      " WARNING: Could not find material 15 specified in plot 5\n",
      " WARNING: Could not find material 16 specified in plot 5\n",
      " WARNING: Could not find material 13 specified in plot 6\n",
      " WARNING: Could not find material 14 specified in plot 6\n",
      " WARNING: Could not find material 15 specified in plot 6\n",
      " WARNING: Could not find material 16 specified in plot 6\n",
      " Writing summary.h5 file...\n",
      " Maximum neutron transport energy: 20000000 eV for U235\n",
      " Initializing source particles...\n",
      "\n",
      " ====================>     K EIGENVALUE SIMULATION     <====================\n",
      "\n",
      "  Bat./Gen.      k            Average k\n",
      "  =========   ========   ====================\n",
      "        1/1    1.77364\n",
      "        2/1    1.82498\n",
      "        3/1    1.77308\n",
      "        4/1    1.85155\n",
      "        5/1    1.85228\n",
      "        6/1    1.77573\n",
      "        7/1    1.83508    1.80541 +/- 0.02968\n",
      "        8/1    1.87430    1.82837 +/- 0.02865\n",
      "        9/1    1.74265    1.80694 +/- 0.02949\n",
      "       10/1    1.89847    1.82525 +/- 0.02927\n",
      " Creating state point statepoint.10.h5...\n",
      "\n",
      " =======================>     TIMING STATISTICS     <=======================\n",
      "\n",
      " Total time for initialization     = 3.5699e-01 seconds\n",
      "   Reading cross sections          = 3.4388e-01 seconds\n",
      " Total time in simulation          = 4.4820e-01 seconds\n",
      "   Time in transport only          = 4.4222e-01 seconds\n",
      "   Time in inactive batches        = 2.1868e-01 seconds\n",
      "   Time in active batches          = 2.2951e-01 seconds\n",
      "   Time synchronizing fission bank = 1.3483e-03 seconds\n",
      "     Sampling source sites         = 1.2884e-03 seconds\n",
      "     SEND/RECV source sites        = 5.3217e-05 seconds\n",
      "   Time accumulating tallies       = 2.1033e-05 seconds\n",
      "   Time writing statepoints        = 3.0397e-03 seconds\n",
      " Total time for finalization       = 3.9720e-06 seconds\n",
      " Total time elapsed                = 8.1487e-01 seconds\n",
      " Calculation Rate (inactive)       = 22864.1 particles/second\n",
      " Calculation Rate (active)         = 21785.2 particles/second\n",
      "\n",
      " ============================>     RESULTS     <============================\n",
      "\n",
      " k-effective (Collision)     = 1.83890 +/- 0.01559\n",
      " k-effective (Track-length)  = 1.82525 +/- 0.02927\n",
      " k-effective (Absorption)    = 1.84676 +/- 0.00505\n",
      " Combined k-effective        = 1.85080 +/- 0.00589\n",
      " Leakage Fraction            = 0.00000 +/- 0.00000\n",
      "\n"
     ]
    }
   ],
   "source": [
    "openmc.run()"
   ]
  },
  {
   "cell_type": "code",
   "execution_count": null,
   "id": "6a0afbbe",
   "metadata": {},
   "outputs": [],
   "source": []
  }
 ],
 "metadata": {
  "kernelspec": {
   "display_name": "Python 3 (ipykernel)",
   "language": "python",
   "name": "python3"
  },
  "language_info": {
   "codemirror_mode": {
    "name": "ipython",
    "version": 3
   },
   "file_extension": ".py",
   "mimetype": "text/x-python",
   "name": "python",
   "nbconvert_exporter": "python",
   "pygments_lexer": "ipython3",
   "version": "3.10.4"
  }
 },
 "nbformat": 4,
 "nbformat_minor": 5
}
