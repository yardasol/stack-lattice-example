{
 "cells": [
  {
   "cell_type": "markdown",
   "id": "9d66de23",
   "metadata": {},
   "source": [
    "## Modeling fuel pellets in a PWR fuel rod"
   ]
  },
  {
   "cell_type": "markdown",
   "id": "85eea2de",
   "metadata": {},
   "source": [
    "This notebook is intended to demonstrate the ``StackLattice`` class usage via creating a toy model of a PWR fuel rod. A PWR fuel rod consists of three components:\n",
    "1. Fuel pellets\n",
    "2. Cladding material\n",
    "3. Cover gas injected into the gap in between the fuel pellets and cladding material\n",
    "\n",
    "Fuel pellets also have gaps on their contact surfaces with each other"
   ]
  },
  {
   "cell_type": "code",
   "execution_count": 1,
   "id": "b9a4a8e6",
   "metadata": {},
   "outputs": [],
   "source": [
    "import openmc\n",
    "model = openmc.model.Model()"
   ]
  },
  {
   "cell_type": "markdown",
   "id": "00b46288",
   "metadata": {},
   "source": [
    "## Defining Materials"
   ]
  },
  {
   "cell_type": "markdown",
   "id": "41318a0d",
   "metadata": {},
   "source": [
    "We define our fuel (UO2) and moderator (water) materials:"
   ]
  },
  {
   "cell_type": "code",
   "execution_count": 2,
   "id": "6e7cc422",
   "metadata": {},
   "outputs": [],
   "source": [
    "uo2 = openmc.Material(name='UO2')\n",
    "uo2.set_density('g/cm3', 10.0)\n",
    "uo2.add_nuclide('U235', 1.0)\n",
    "uo2.add_nuclide('O16', 2.0)\n",
    "water = openmc.Material(name='light water')\n",
    "water.add_nuclide('H1', 2.0)\n",
    "water.add_nuclide('O16', 1.0)\n",
    "water.set_density('g/cm3', 1.0)\n",
    "water.add_s_alpha_beta('c_H_in_H2O')"
   ]
  },
  {
   "cell_type": "markdown",
   "id": "d38fa0de",
   "metadata": {},
   "source": [
    "We also define the clad (zirconium) and the cover gas (helium) materials "
   ]
  },
  {
   "cell_type": "code",
   "execution_count": 3,
   "id": "fbfeea4e",
   "metadata": {},
   "outputs": [],
   "source": [
    "zirconium = openmc.Material(name=\"zirconium\")\n",
    "zirconium.add_element('Zr', 1.0)\n",
    "zirconium.set_density('g/cm3', 6.6)\n",
    "cover_gas = openmc.Material(name=\"cover gas\")\n",
    "cover_gas.add_element('He',1.0)\n",
    "cover_gas.set_density('g/cm3', 0.00018)"
   ]
  },
  {
   "cell_type": "markdown",
   "id": "b8e300f5",
   "metadata": {},
   "source": [
    "With all of our materials defined, we add them to the model"
   ]
  },
  {
   "cell_type": "code",
   "execution_count": 4,
   "id": "2a45b118",
   "metadata": {},
   "outputs": [],
   "source": [
    "model.materials.extend([uo2, water, zirconium, cover_gas])"
   ]
  },
  {
   "cell_type": "markdown",
   "id": "33dd9022",
   "metadata": {},
   "source": [
    "Let's also define plot colors for vizualization"
   ]
  },
  {
   "cell_type": "code",
   "execution_count": 20,
   "id": "a3560930",
   "metadata": {},
   "outputs": [],
   "source": [
    "plot_colors={uo2: 'red', water: 'blue', cover_gas: 'green', zirconium: 'grey'}"
   ]
  },
  {
   "cell_type": "markdown",
   "id": "c946c791",
   "metadata": {},
   "source": [
    "## Defining Geometry\n",
    "A typical fuel rod will have an active fuel length of 2-4 m. Let's assume our fuel rod has 200 fuel pellets. We'll also need 201 gap regions (199 for each contact surface between fuel pellets, and 2 for the contact surfaces between the fuel pellets and end plugs at each end of the fuel rod). We can say these gaps are a 1/100th of a millimeter.\n",
    "\n",
    "We'll assume a fuel pellet height of 1.5cm, and take the rest of the dimensions from the Pincell tutorial/"
   ]
  },
  {
   "cell_type": "code",
   "execution_count": 11,
   "id": "fdb351fd",
   "metadata": {},
   "outputs": [],
   "source": [
    "n_pellets = 200\n",
    "pellet_radius = 0.39\n",
    "pellet_height = 1.5 # pellet height\n",
    "contact_surface_gap_width = 0.0001\n",
    "clad_inner_radius = 0.40\n",
    "clad_outer_radius = 0.46"
   ]
  },
  {
   "cell_type": "markdown",
   "id": "f5285d1f",
   "metadata": {},
   "source": [
    "With our dimensions defined, we now create the necessary surfaces and cells"
   ]
  },
  {
   "cell_type": "code",
   "execution_count": 12,
   "id": "0f10be88",
   "metadata": {},
   "outputs": [],
   "source": [
    "bottom = openmc.ZPlane(z0=0.)\n",
    "\n",
    "pellet_outer = openmc.ZCylinder(r=pellet_radius)\n",
    "pellet_top = openmc.ZPlane(z0=pellet_height)\n",
    "pellet_region = -pellet_outer & -pellet_top & +bottom\n",
    "pellet_void_region = +pellet_outer & -pellet_top & +bottom\n",
    "\n",
    "gap_top = openmc.ZPlane(z0=contact_surface_gap_width)\n",
    "contact_surface_gap_region = +bottom & -gap_top & -pellet_outer\n",
    "contact_surface_gap_void_region = +bottom & -gap_top & +pellet_outer\n",
    "\n",
    "fuel_pellet = openmc.Cell(fill=uo2, region=pellet_region)\n",
    "fuel_pellet_void = openmc.Cell(region=pellet_void_region)\n",
    "contact_surface_gap = openmc.Cell(fill=cover_gas, region=contact_surface_gap_region)\n",
    "contact_surface_gap_void = openmc.Cell(region=contact_surface_gap_void_region)\n",
    "\n",
    "fp = openmc.Universe(cells=[fuel_pellet, fuel_pellet_void])\n",
    "ig = openmc.Universe(cells=[contact_surface_gap, contact_surface_gap_void])"
   ]
  },
  {
   "cell_type": "markdown",
   "id": "57716f29",
   "metadata": {},
   "source": [
    "Let's take a look at out pellet and gap regions:"
   ]
  },
  {
   "cell_type": "code",
   "execution_count": 23,
   "id": "7d83199b",
   "metadata": {},
   "outputs": [
    {
     "data": {
      "text/plain": [
       "<matplotlib.image.AxesImage at 0x7feee1103580>"
      ]
     },
     "execution_count": 23,
     "metadata": {},
     "output_type": "execute_result"
    },
    {
     "data": {
      "image/png": "[encoded data removed]",
      "text/plain": [
       "<Figure size 432x288 with 1 Axes>"
      ]
     },
     "metadata": {
      "needs_background": "light"
     },
     "output_type": "display_data"
    }
   ],
   "source": [
    "fp.plot(width=(1.,2.), \n",
    "              origin=(0.,0.,0.75), \n",
    "              basis='xz', \n",
    "              color_by='material', \n",
    "              colors=plot_colors)"
   ]
  },
  {
   "cell_type": "code",
   "execution_count": 27,
   "id": "f453cef8",
   "metadata": {},
   "outputs": [
    {
     "data": {
      "text/plain": [
       "<matplotlib.image.AxesImage at 0x7feee10910c0>"
      ]
     },
     "execution_count": 27,
     "metadata": {},
     "output_type": "execute_result"
    },
    {
     "data": {
      "image/png": "[encoded data removed]",
      "text/plain": [
       "<Figure size 432x288 with 1 Axes>"
      ]
     },
     "metadata": {
      "needs_background": "light"
     },
     "output_type": "display_data"
    }
   ],
   "source": [
    "ig.plot(width=(0.001,0.001), \n",
    "              origin=(0.,0.,0.), \n",
    "              basis='xz', \n",
    "              color_by='material', \n",
    "              colors=plot_colors)"
   ]
  },
  {
   "cell_type": "markdown",
   "id": "039184e5",
   "metadata": {},
   "source": [
    "Now we actually go on to define our lattice. In this case, we have a nonuniform lattice strucutre."
   ]
  },
  {
   "cell_type": "code",
   "execution_count": 14,
   "id": "b450f68a",
   "metadata": {},
   "outputs": [],
   "source": [
    "univs = [ig, fp] * n_pellets\n",
    "univs += [ig]\n",
    "pellet_stack = openmc.StackLattice()\n",
    "pellet_stack.central_axis = (0., 0.)\n",
    "pellet_stack.base_coordinate = 0.\n",
    "pellet_stack.universes = univs\n",
    "pellet_stack.is_uniform = False\n",
    "pitch = [contact_surface_gap_width, pellet_height] * n_pellets\n",
    "pitch += [contact_surface_gap_width]\n",
    "pellet_stack.pitch = pitch\n",
    "\n",
    "stack_cell = openmc.Cell(fill=pellet_stack)"
   ]
  },
  {
   "cell_type": "markdown",
   "id": "7df63b8f",
   "metadata": {},
   "source": [
    "Now we need to add the pellet-to-clad gap, cladding, and water moderator"
   ]
  },
  {
   "cell_type": "code",
   "execution_count": 16,
   "id": "f7f368ad",
   "metadata": {},
   "outputs": [],
   "source": [
    "rod_top_coord = n_pellets * (pellet_height + contact_surface_gap_width) + contact_surface_gap_width\n",
    "rod_top = openmc.ZPlane(z0=rod_top_coord)\n",
    "                        \n",
    "clad_inner = openmc.ZCylinder(r=clad_inner_radius)\n",
    "clad_outer = openmc.ZCylinder(r=clad_outer_radius)\n",
    "                        \n",
    "clad_region = +clad_inner & -clad_outer & +bottom & -rod_top\n",
    "clad_gap_region = +pellet_outer & -clad_inner & +bottom & -rod_top\n",
    "water_region = ~(-clad_outer & +bottom & -rod_top)    \n",
    "\n",
    "fuel_clad = openmc.Cell(fill=zirconium, region=clad_region)\n",
    "clad_gap = openmc.Cell(fill=cover_gas, region=clad_gap_region)\n",
    "water_reflector = openmc.Cell(fill=water, region=water_region)"
   ]
  },
  {
   "cell_type": "markdown",
   "id": "24d9171d",
   "metadata": {},
   "source": [
    "Now we put everything together and add a boundary surface."
   ]
  },
  {
   "cell_type": "code",
   "execution_count": 18,
   "id": "5eaeabaf",
   "metadata": {},
   "outputs": [],
   "source": [
    "pin_univ = openmc.Universe(cells=[water_reflector,fuel_clad, clad_gap, stack_cell])\n",
    "\n",
    "d = pellet_radius\n",
    "box = openmc.model.RectangularParallelepiped(-clad_outer_radius -d, clad_outer_radius + d, \n",
    "                                             -clad_outer_radius -d, clad_outer_radius + d,\n",
    "                                          0. - d, rod_top_coord + d,\n",
    "                                          boundary_type='reflective')\n",
    "\n",
    "main_cell = openmc.Cell(fill=pin_univ, region=-box)\n",
    "model.geometry = openmc.Geometry(root=[main_cell])"
   ]
  },
  {
   "cell_type": "markdown",
   "id": "24078b18",
   "metadata": {},
   "source": [
    "Let's check how the ``pin_univ`` looks"
   ]
  },
  {
   "cell_type": "code",
   "execution_count": 53,
   "id": "d30cd56b",
   "metadata": {},
   "outputs": [
    {
     "data": {
      "text/plain": [
       "<matplotlib.image.AxesImage at 0x7feed2327520>"
      ]
     },
     "execution_count": 53,
     "metadata": {},
     "output_type": "execute_result"
    },
    {
     "data": {
      "image/png": "[encoded data removed]",
      "text/plain": [
       "<Figure size 432x288 with 1 Axes>"
      ]
     },
     "metadata": {
      "needs_background": "light"
     },
     "output_type": "display_data"
    }
   ],
   "source": [
    "pin_univ.plot(width=(1.1*clad_outer_radius,1.1*clad_outer_radius), \n",
    "              origin=(0.5*clad_outer_radius,0.5*clad_outer_radius,0.75), \n",
    "              basis='xy', \n",
    "              color_by='material', \n",
    "              colors=plot_colors)"
   ]
  },
  {
   "cell_type": "code",
   "execution_count": 55,
   "id": "0d6084ef",
   "metadata": {},
   "outputs": [
    {
     "data": {
      "text/plain": [
       "<matplotlib.image.AxesImage at 0x7feed1e1b070>"
      ]
     },
     "execution_count": 55,
     "metadata": {},
     "output_type": "execute_result"
    },
    {
     "data": {
      "image/png": "[encoded data removed]",
      "text/plain": [
       "<Figure size 432x288 with 1 Axes>"
      ]
     },
     "metadata": {
      "needs_background": "light"
     },
     "output_type": "display_data"
    }
   ],
   "source": [
    "pin_univ.plot(width=(0.5,0.5), \n",
    "              origin=(.39,0.,0.), \n",
    "              basis='xz', \n",
    "              color_by='material', \n",
    "              colors=plot_colors)"
   ]
  },
  {
   "cell_type": "markdown",
   "id": "b013fbb4",
   "metadata": {},
   "source": [
    "They look good! All that's left is to create our settings, export the xmls, and run the model."
   ]
  },
  {
   "cell_type": "code",
   "execution_count": 4,
   "id": "1a51fb33",
   "metadata": {},
   "outputs": [],
   "source": [
    "model.settings.batches = 10\n",
    "model.settings.inactive = 5\n",
    "model.settings.particles = 1000\n",
    "model.settings.verbosity = 10\n",
    "\n",
    "model.export_to_xml()"
   ]
  },
  {
   "cell_type": "markdown",
   "id": "57d1925c",
   "metadata": {},
   "source": [
    "We can also define plots externally "
   ]
  },
  {
   "cell_type": "code",
   "execution_count": 4,
   "id": "0ecf9b11",
   "metadata": {},
   "outputs": [],
   "source": [
    "plotxy = openmc.Plot()\n",
    "plotxy.basis = 'xy'\n",
    "plotxy.origin = (0., 0., 1.)\n",
    "plotxy.width = (5., 5.)\n",
    "plotxy.pixels = (10000, 10000)\n",
    "plotxy.color_by = 'material'\n",
    "\n",
    "plotxy.colors = {\n",
    "    uo2: 'red',\n",
    "    water: 'blue',\n",
    "    cover_gas: 'green',\n",
    "    zirconium: 'grey'\n",
    "    \n",
    "}\n",
    "plotxy.filename = 'xy'\n",
    "\n",
    "plotxz = openmc.Plot()\n",
    "plotxz.basis = 'xz'\n",
    "plotxz.origin = (0., 0., 1.)\n",
    "plotxz.width = (5., 5.)\n",
    "plotxz.pixels = (10000, 10000)\n",
    "plotxz.color_by = 'material'\n",
    "\n",
    "plotxz.colors = {\n",
    "    uo2: 'red',\n",
    "    water: 'blue',\n",
    "    cover_gas: 'green',\n",
    "    zirconium: 'grey'\n",
    "}\n",
    "plotxz.filename = 'xz'\n",
    "\n",
    "plots = openmc.Plots([plotxy, plotxz])\n",
    "plots.export_to_xml()"
   ]
  },
  {
   "cell_type": "markdown",
   "id": "66770e31",
   "metadata": {},
   "source": [
    "And now we run our model"
   ]
  },
  {
   "cell_type": "code",
   "execution_count": 10,
   "id": "d678bc80",
   "metadata": {},
   "outputs": [
    {
     "name": "stdout",
     "output_type": "stream",
     "text": [
      "                                %%%%%%%%%%%%%%%\n",
      "                           %%%%%%%%%%%%%%%%%%%%%%%%\n",
      "                        %%%%%%%%%%%%%%%%%%%%%%%%%%%%%%\n",
      "                      %%%%%%%%%%%%%%%%%%%%%%%%%%%%%%%%%%\n",
      "                    %%%%%%%%%%%%%%%%%%%%%%%%%%%%%%%%%%%%%%\n",
      "                   %%%%%%%%%%%%%%%%%%%%%%%%%%%%%%%%%%%%%%%%\n",
      "                                    %%%%%%%%%%%%%%%%%%%%%%%%\n",
      "                                     %%%%%%%%%%%%%%%%%%%%%%%%\n",
      "                 ###############      %%%%%%%%%%%%%%%%%%%%%%%%\n",
      "                ##################     %%%%%%%%%%%%%%%%%%%%%%%\n",
      "                ###################     %%%%%%%%%%%%%%%%%%%%%%%\n",
      "                ####################     %%%%%%%%%%%%%%%%%%%%%%\n",
      "                #####################     %%%%%%%%%%%%%%%%%%%%%\n",
      "                ######################     %%%%%%%%%%%%%%%%%%%%\n",
      "                #######################     %%%%%%%%%%%%%%%%%%\n",
      "                 #######################     %%%%%%%%%%%%%%%%%\n",
      "                 ######################     %%%%%%%%%%%%%%%%%\n",
      "                  ####################     %%%%%%%%%%%%%%%%%\n",
      "                    #################     %%%%%%%%%%%%%%%%%\n",
      "                     ###############     %%%%%%%%%%%%%%%%\n",
      "                       ############     %%%%%%%%%%%%%%%\n",
      "                          ########     %%%%%%%%%%%%%%\n",
      "                                      %%%%%%%%%%%\n",
      "\n",
      "                 | The OpenMC Monte Carlo Code\n",
      "       Copyright | 2011-2022 MIT, UChicago Argonne LLC, and contributors\n",
      "         License | https://docs.openmc.org/en/latest/license.html\n",
      "         Version | 0.13.1-dev\n",
      "        Git SHA1 | c50b458615c65f79c97d91a53c6b3f11dae352e5\n",
      "       Date/Time | 2022-04-28 14:56:10\n",
      "  OpenMP Threads | 12\n",
      "\n",
      " Reading settings XML file...\n",
      " Reading cross sections XML file...\n",
      " Reading materials XML file...\n",
      " Reading geometry XML file...\n",
      " Reading U235 from\n",
      " /home/ooblack/projects/cross-section-libraries/nndc_hdf5/U235.h5\n",
      " Reading O16 from\n",
      " /home/ooblack/projects/cross-section-libraries/nndc_hdf5/O16.h5\n",
      " Reading H1 from /home/ooblack/projects/cross-section-libraries/nndc_hdf5/H1.h5\n",
      " Reading Zr90 from\n",
      " /home/ooblack/projects/cross-section-libraries/nndc_hdf5/Zr90.h5\n",
      " Reading Zr91 from\n",
      " /home/ooblack/projects/cross-section-libraries/nndc_hdf5/Zr91.h5\n",
      " Reading Zr92 from\n",
      " /home/ooblack/projects/cross-section-libraries/nndc_hdf5/Zr92.h5\n",
      " Reading Zr94 from\n",
      " /home/ooblack/projects/cross-section-libraries/nndc_hdf5/Zr94.h5\n",
      " Reading Zr96 from\n",
      " /home/ooblack/projects/cross-section-libraries/nndc_hdf5/Zr96.h5\n",
      " Reading He3 from\n",
      " /home/ooblack/projects/cross-section-libraries/nndc_hdf5/He3.h5\n",
      " Reading He4 from\n",
      " /home/ooblack/projects/cross-section-libraries/nndc_hdf5/He4.h5\n",
      " Reading c_H_in_H2O from\n",
      " /home/ooblack/projects/cross-section-libraries/nndc_hdf5/c_H_in_H2O.h5\n",
      " Minimum neutron data temperature: 294 K\n",
      " Maximum neutron data temperature: 294 K\n",
      " Preparing distributed cell instances...\n",
      " Reading plot XML file...\n",
      " WARNING: Could not find material 1 specified in plot 1\n",
      " WARNING: Could not find material 2 specified in plot 1\n",
      " WARNING: Could not find material 3 specified in plot 1\n",
      " WARNING: Could not find material 4 specified in plot 1\n",
      " WARNING: Could not find material 1 specified in plot 2\n",
      " WARNING: Could not find material 2 specified in plot 2\n",
      " WARNING: Could not find material 3 specified in plot 2\n",
      " WARNING: Could not find material 4 specified in plot 2\n",
      " Writing summary.h5 file...\n",
      " Maximum neutron transport energy: 20000000 eV for U235\n",
      " Initializing source particles...\n",
      "\n",
      " ====================>     K EIGENVALUE SIMULATION     <====================\n",
      "\n",
      "  Bat./Gen.      k            Average k\n",
      "  =========   ========   ====================\n",
      " WARNING: Could not find the cell containing particle 503\n",
      " WARNING: Could not find the cell containing particle 918\n",
      " WARNING:  WARNING: Could not find the cell containing particle 669\n",
      "Could not find the cell containing particle 420\n",
      " WARNING: Could not find the cell containing particle 85\n",
      " WARNING: Could not find the cell containing particle 337\n",
      " WARNING: Could not find the cell containing particle 753\n",
      " WARNING: After particle 1 crossed surface 19 it could not be located in any\n",
      "          cell and it did not leak.\n",
      " WARNING: After particle 169 crossed surface 19 it could not be located in any\n",
      "          cell and it did not leak.\n",
      " WARNING: Could not find the cell containing particle 504\n",
      " WARNING: Could not find the cell containing particle 2\n",
      " WARNING: Could not find the cell containing particle 838\n",
      " WARNING: Could not find the cell containing particle 421\n",
      " WARNING: After particle 170 crossed surface 19 it could not be located in any\n",
      "          cell and it did not leak.\n",
      " WARNING: Could not find the cell containing particle 839\n",
      " WARNING: After particle 919 crossed surface 19 it could not be located in any\n",
      "          cell and it did not leak.\n",
      " WARNING: Could not find the cell containing particle 841\n",
      " WARNING: Could not find the cell containing particle 920\n",
      " WARNING: Could not find the cell containing particle 505\n",
      " ERROR: Maximum number of lost particles has been reached.\n",
      " ERROR: Maximum number of lost particles has been reached.\n",
      " WARNING: Could not find the cell containing particle 586\n",
      " WARNING: Could not find the cell containing particle 253\n"
     ]
    },
    {
     "ename": "RuntimeError",
     "evalue": "Maximum number of lost particles has been reached. ERROR: Maximum number of lost particles has been reached. WARNING: Could not find the cell containing particle 586 WARNING: Could not find the cell containing particle 253",
     "output_type": "error",
     "traceback": [
      "\u001b[0;31m---------------------------------------------------------------------------\u001b[0m",
      "\u001b[0;31mRuntimeError\u001b[0m                              Traceback (most recent call last)",
      "Input \u001b[0;32mIn [10]\u001b[0m, in \u001b[0;36m<cell line: 1>\u001b[0;34m()\u001b[0m\n\u001b[0;32m----> 1\u001b[0m \u001b[43mopenmc\u001b[49m\u001b[38;5;241;43m.\u001b[39;49m\u001b[43mrun\u001b[49m\u001b[43m(\u001b[49m\u001b[43m)\u001b[49m\n",
      "File \u001b[0;32m~/projects/openmc/openmc/executor.py:276\u001b[0m, in \u001b[0;36mrun\u001b[0;34m(particles, threads, geometry_debug, restart_file, tracks, output, cwd, openmc_exec, mpi_args, event_based)\u001b[0m\n\u001b[1;32m    232\u001b[0m \u001b[38;5;124;03m\"\"\"Run an OpenMC simulation.\u001b[39;00m\n\u001b[1;32m    233\u001b[0m \n\u001b[1;32m    234\u001b[0m \u001b[38;5;124;03mParameters\u001b[39;00m\n\u001b[0;32m   (...)\u001b[0m\n\u001b[1;32m    268\u001b[0m \n\u001b[1;32m    269\u001b[0m \u001b[38;5;124;03m\"\"\"\u001b[39;00m\n\u001b[1;32m    271\u001b[0m args \u001b[38;5;241m=\u001b[39m _process_CLI_arguments(\n\u001b[1;32m    272\u001b[0m     volume\u001b[38;5;241m=\u001b[39m\u001b[38;5;28;01mFalse\u001b[39;00m, geometry_debug\u001b[38;5;241m=\u001b[39mgeometry_debug, particles\u001b[38;5;241m=\u001b[39mparticles,\n\u001b[1;32m    273\u001b[0m     restart_file\u001b[38;5;241m=\u001b[39mrestart_file, threads\u001b[38;5;241m=\u001b[39mthreads, tracks\u001b[38;5;241m=\u001b[39mtracks,\n\u001b[1;32m    274\u001b[0m     event_based\u001b[38;5;241m=\u001b[39mevent_based, openmc_exec\u001b[38;5;241m=\u001b[39mopenmc_exec, mpi_args\u001b[38;5;241m=\u001b[39mmpi_args)\n\u001b[0;32m--> 276\u001b[0m \u001b[43m_run\u001b[49m\u001b[43m(\u001b[49m\u001b[43margs\u001b[49m\u001b[43m,\u001b[49m\u001b[43m \u001b[49m\u001b[43moutput\u001b[49m\u001b[43m,\u001b[49m\u001b[43m \u001b[49m\u001b[43mcwd\u001b[49m\u001b[43m)\u001b[49m\n",
      "File \u001b[0;32m~/projects/openmc/openmc/executor.py:116\u001b[0m, in \u001b[0;36m_run\u001b[0;34m(args, output, cwd)\u001b[0m\n\u001b[1;32m    113\u001b[0m     error_msg \u001b[38;5;241m=\u001b[39m \u001b[38;5;124m'\u001b[39m\u001b[38;5;124mOpenMC aborted unexpectedly.\u001b[39m\u001b[38;5;124m'\u001b[39m\n\u001b[1;32m    114\u001b[0m error_msg \u001b[38;5;241m=\u001b[39m \u001b[38;5;124m'\u001b[39m\u001b[38;5;124m \u001b[39m\u001b[38;5;124m'\u001b[39m\u001b[38;5;241m.\u001b[39mjoin(error_msg\u001b[38;5;241m.\u001b[39msplit())\n\u001b[0;32m--> 116\u001b[0m \u001b[38;5;28;01mraise\u001b[39;00m \u001b[38;5;167;01mRuntimeError\u001b[39;00m(error_msg)\n",
      "\u001b[0;31mRuntimeError\u001b[0m: Maximum number of lost particles has been reached. ERROR: Maximum number of lost particles has been reached. WARNING: Could not find the cell containing particle 586 WARNING: Could not find the cell containing particle 253"
     ]
    }
   ],
   "source": [
    "openmc.run()"
   ]
  }
 ],
 "metadata": {
  "kernelspec": {
   "display_name": "Python 3 (ipykernel)",
   "language": "python",
   "name": "python3"
  },
  "language_info": {
   "codemirror_mode": {
    "name": "ipython",
    "version": 3
   },
   "file_extension": ".py",
   "mimetype": "text/x-python",
   "name": "python",
   "nbconvert_exporter": "python",
   "pygments_lexer": "ipython3",
   "version": "3.10.4"
  }
 },
 "nbformat": 4,
 "nbformat_minor": 5
}
